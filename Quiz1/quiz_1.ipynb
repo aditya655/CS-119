{
 "cells": [
  {
   "cell_type": "markdown",
   "metadata": {},
   "source": [
    "#### Import Libraries\n"
   ]
  },
  {
   "cell_type": "code",
   "execution_count": 28,
   "metadata": {},
   "outputs": [],
   "source": [
    "import requests\n",
    "from bs4 import BeautifulSoup\n"
   ]
  },
  {
   "cell_type": "markdown",
   "metadata": {},
   "source": [
    "### WikiURL"
   ]
  },
  {
   "cell_type": "code",
   "execution_count": 29,
   "metadata": {},
   "outputs": [],
   "source": [
    "WIKI_URL = \"https://aliceinwonderland.fandom.com/wiki/Alice_in_Wonderland_Wiki\"\n"
   ]
  },
  {
   "cell_type": "markdown",
   "metadata": {},
   "source": [
    "### Fetch and Parse Helper Function"
   ]
  },
  {
   "cell_type": "code",
   "execution_count": 30,
   "metadata": {},
   "outputs": [],
   "source": [
    "def fetch_soup(url):\n",
    "    \"\"\"\n",
    "    Fetches the content of the given URL and returns a BeautifulSoup object.\n",
    "    \"\"\"\n",
    "    try:\n",
    "        response = requests.get(url)\n",
    "        response.raise_for_status()  # Raise an exception for HTTP errors\n",
    "        soup = BeautifulSoup(response.text, 'html.parser')\n",
    "        return soup\n",
    "    except requests.exceptions.RequestException as e:\n",
    "        print(f\"Error fetching {url}: {e}\")\n",
    "        return None\n"
   ]
  },
  {
   "cell_type": "markdown",
   "metadata": {},
   "source": [
    "### Books Function\n"
   ]
  },
  {
   "cell_type": "code",
   "execution_count": 31,
   "metadata": {},
   "outputs": [],
   "source": [
    "def books():\n",
    "    \"\"\"\n",
    "    Extracts and returns the canon book names from the wiki page.\n",
    "    \"\"\"\n",
    "    soup = fetch_soup(WIKI_URL)\n",
    "    if not soup:\n",
    "        return []\n",
    "\n",
    "    canon_books = []\n",
    "\n",
    "    # Locate the \"Canon books\" section\n",
    "    book_section = soup.find('span', string=\"Canon books\")\n",
    "    if not book_section:\n",
    "        print(\"Canon books section not found.\")\n",
    "        return canon_books\n",
    "\n",
    "    # Extract the <ul> following the \"Canon books\" header\n",
    "    book_list = book_section.find_next('ul')\n",
    "    if not book_list:\n",
    "        print(\"Canon books list not found.\")\n",
    "        return canon_books\n",
    "\n",
    "    # Extract the book names from the <li> elements\n",
    "    for li in book_list.find_all('li'):\n",
    "        book_name = li.get_text(strip=True)\n",
    "        canon_books.append(book_name)\n",
    "\n",
    "    return canon_books\n"
   ]
  },
  {
   "cell_type": "markdown",
   "metadata": {},
   "source": [
    "### Poems Function\n"
   ]
  },
  {
   "cell_type": "code",
   "execution_count": 32,
   "metadata": {},
   "outputs": [],
   "source": [
    "def poems():\n",
    "    \"\"\"\n",
    "    Extracts and returns a list of tuples containing canon poem names and their URLs.\n",
    "    \"\"\"\n",
    "    soup = fetch_soup(WIKI_URL)\n",
    "    if not soup:\n",
    "        return []\n",
    "\n",
    "    canon_poems = []\n",
    "\n",
    "    # Locate the \"Canon poems\" section\n",
    "    poem_section = soup.find('span', string=\"Canon poems\")\n",
    "    if not poem_section:\n",
    "        print(\"Canon poems section not found.\")\n",
    "        return canon_poems\n",
    "\n",
    "    # Extract the <ul> following the \"Canon poems\" header\n",
    "    poem_list = poem_section.find_next('ul')\n",
    "    if not poem_list:\n",
    "        print(\"Canon poems list not found.\")\n",
    "        return canon_poems\n",
    "\n",
    "    # Extract the poem names and URLs from the <li> elements\n",
    "    for li in poem_list.find_all('li'):\n",
    "        a_tag = li.find('a')\n",
    "        if a_tag and 'href' in a_tag.attrs:\n",
    "            poem_title = a_tag.get_text(strip=True)\n",
    "            poem_url = a_tag['href']\n",
    "            if not poem_url.startswith(\"https\"):\n",
    "                poem_url = \"https://aliceinwonderland.fandom.com\" + poem_url\n",
    "            canon_poems.append((poem_title, poem_url))\n",
    "\n",
    "    return canon_poems\n"
   ]
  },
  {
   "cell_type": "markdown",
   "metadata": {},
   "source": [
    "### Poem Title Function"
   ]
  },
  {
   "cell_type": "code",
   "execution_count": 33,
   "metadata": {},
   "outputs": [],
   "source": [
    "def poem_title_text(n):\n",
    "    \"\"\"\n",
    "    Given an index n, returns the title and full text of the nth canon poem.\n",
    "    \"\"\"\n",
    "    canon_poems = poems()\n",
    "    if not canon_poems:\n",
    "        print(\"No poems found.\")\n",
    "        return None, None\n",
    "\n",
    "    if n < 0 or n >= len(canon_poems):\n",
    "        print(f\"Index {n} is out of range. There are {len(canon_poems)} poems.\")\n",
    "        return None, None\n",
    "\n",
    "    title, relative_url = canon_poems[n]\n",
    "    \n",
    "    # Only add the base URL if the URL is relative\n",
    "    if not relative_url.startswith(\"http\"):\n",
    "        full_url = \"https://aliceinwonderland.fandom.com\" + relative_url\n",
    "    else:\n",
    "        full_url = relative_url\n",
    "\n",
    "    soup = fetch_soup(full_url)\n",
    "    if not soup:\n",
    "        return title, None\n",
    "\n",
    "    # Extract the poem text\n",
    "    poem_text = \"\"\n",
    "    content_div = soup.find('div', class_='mw-parser-output')\n",
    "    if not content_div:\n",
    "        print(\"Poem content not found.\")\n",
    "        return title, poem_text\n",
    "\n",
    "    # Concatenate all paragraph texts\n",
    "    for p in content_div.find_all('p'):\n",
    "        paragraph = p.get_text(strip=True)\n",
    "        if paragraph:\n",
    "            poem_text += paragraph + \"\\n\\n\"\n",
    "\n",
    "    return title, poem_text.strip()\n"
   ]
  },
  {
   "cell_type": "markdown",
   "metadata": {},
   "source": [
    "### Testing functions"
   ]
  },
  {
   "cell_type": "code",
   "execution_count": 34,
   "metadata": {},
   "outputs": [
    {
     "name": "stdout",
     "output_type": "stream",
     "text": [
      "Canon Books:\n",
      "- Alice's Adventures in Wonderland\n",
      "- Through the Looking-Glass, and What Alice Found There\n",
      "- Alice's Adventures Underground\n",
      "\n",
      "Canon Poems:\n",
      "0. Jabberwocky: https://aliceinwonderland.fandom.com/wiki/Jabberwocky\n",
      "1. How Doth the Little Crocodile: https://aliceinwonderland.fandom.com/wiki/How_Doth_the_Little_Crocodile\n",
      "2. The Walrus and the Carpenter: https://aliceinwonderland.fandom.com/wiki/The_Walrus_and_the_Carpenter_(poem)\n",
      "3. You Are Old, Father William: https://aliceinwonderland.fandom.com/wiki/You_Are_Old,_Father_William\n",
      "4. Humpty Dumpty's Recitation: https://aliceinwonderland.fandom.com/wiki/Humpty_Dumpty%27s_Recitation\n",
      "5. Turtle Soup: https://aliceinwonderland.fandom.com/wiki/Turtle_Soup\n",
      "6. Tis the Voice of the Lobster: https://aliceinwonderland.fandom.com/wiki/Tis_the_Voice_of_the_Lobster\n",
      "\n",
      "Testing poem at index 3:\n",
      "Poem 3 Title: You Are Old, Father William\n",
      "\n",
      "Poem Text:\n",
      "You Are Old, Father Williamis a poem by Lewis Carroll that appears in his bookAlice's Adventures in Wonderland(1865). The poem is a parody of Robert Southey's didactic poem \"The Old Man's Comforts and How He Gained Them\", originally published in 1799. It is recited by Alice in Chapter 5, \"Advice from a Caterpillar.\" Alice informs the caterpillar that she has previously tried to repeat \"How Doth the Little Busy Bee\" and has had it all come wrong as \"How Doth the Little Crocodile\". The caterpillar asks her to repeat \"You are old, Father William\", and she recites.\n",
      "\n",
      "\"You are old, Father William,\" the young man said,\"And your hair has become very white;And yet you incessantly stand on your head—Do you think, at your age, it is right?\"\"In my youth,\" Father William replied to his son,\"I feared it might injure the brain;But now that I'm perfectly sure I have none,Why, I do it again and again.\"\"You are old,\" said the youth, \"As I mentioned before,And have grown most uncommonly fat;Yet you turned a back-somersault in at the door—Pray, what is the reason of that?\"\"In my youth,\" said the sage, as he shook his grey locks,\"I kept all my limbs very suppleBy the use of this ointment—one shilling the box—Allow me to sell you a couple?\"\"You are old,\" said the youth, \"And your jaws are too weakFor anything tougher than suet;Yet you finished the goose, with the bones and the beak—Pray, how did you manage to do it?\"\"In my youth,\" said his father, \"I took to the law,And argued each case with my wife;And the muscular strength which it gave to my jaw,Has lasted the rest of my life.\"\"You are old,\" said the youth, \"one would hardly supposeThat your eye was as steady as ever;Yet you balanced an eel on the end of your nose—What made you so awfully clever?\"\"I have answered three questions, and that is enough,\"Said his father; \"don't give yourself airs!Do you think I can listen all day to such stuff?Be off, or I'll kick you down stairs!\"\n"
     ]
    }
   ],
   "source": [
    "def test_books_and_poems():\n",
    "    \"\"\"\n",
    "    Tests the extraction of canon books and poems, printing them with expected formatting.\n",
    "    Also tests retrieving poem title and text.\n",
    "    \"\"\"\n",
    "    # Test canon books extraction\n",
    "    print(\"Canon Books:\")\n",
    "    books_list = books()\n",
    "    if books_list:\n",
    "        for book in books_list:\n",
    "            print(f\"- {book}\")\n",
    "    else:\n",
    "        print(\"No canon books found.\")\n",
    "\n",
    "    # Test canon poems extraction\n",
    "    print(\"\\nCanon Poems:\")\n",
    "    poems_list = poems()\n",
    "    if poems_list:\n",
    "        for idx, (title, url) in enumerate(poems_list, start=0):\n",
    "            print(f\"{idx}. {title}: {url}\")\n",
    "    else:\n",
    "        print(\"No canon poems found.\")\n",
    "\n",
    "def test_poem_title_text(n):\n",
    "    \"\"\"\n",
    "    Tests the poem_title_text function by printing the title and text of the nth poem.\n",
    "    \"\"\"\n",
    "    print(f\"\\nTesting poem at index {n}:\")\n",
    "    title, text = poem_title_text(n)\n",
    "    \n",
    "    if title and text:\n",
    "        print(f\"Poem {n} Title: {title}\\n\")\n",
    "        print(f\"Poem Text:\\n{text}\")\n",
    "    else:\n",
    "        print(f\"Poem at index {n} could not be retrieved.\")\n",
    "\n",
    "# Test the books and poems extraction\n",
    "test_books_and_poems()\n",
    "\n",
    "# Test poem title and text for a specific index (e.g., 0 for the first poem)\n",
    "test_poem_title_text(3)\n",
    "\n"
   ]
  }
 ],
 "metadata": {
  "kernelspec": {
   "display_name": "ml135_env_sp21",
   "language": "python",
   "name": "python3"
  },
  "language_info": {
   "codemirror_mode": {
    "name": "ipython",
    "version": 3
   },
   "file_extension": ".py",
   "mimetype": "text/x-python",
   "name": "python",
   "nbconvert_exporter": "python",
   "pygments_lexer": "ipython3",
   "version": "3.11.5"
  }
 },
 "nbformat": 4,
 "nbformat_minor": 2
}
